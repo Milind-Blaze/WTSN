{
 "cells": [
  {
   "cell_type": "code",
   "execution_count": null,
   "metadata": {},
   "outputs": [],
   "source": [
    "import numpy as np\n",
    "import matplotlib.pyplot as plt\n",
    "import pandas as pd"
   ]
  },
  {
   "cell_type": "code",
   "execution_count": null,
   "metadata": {},
   "outputs": [],
   "source": [
    "request_filepath = \"./fast1_request_response/request_time.csv\"\n",
    "# request_filepath = \"./fast1_request_response/response_time.csv\""
   ]
  },
  {
   "cell_type": "code",
   "execution_count": null,
   "metadata": {},
   "outputs": [],
   "source": [
    "# load the csv file at request_filepath\n",
    "request_df = pd.read_csv(request_filepath)\n",
    "print(request_df.to_numpy()[:5])\n",
    "# find the inter-arrival time between requests\n",
    "request_df['inter_arrival_time'] = request_df['Request Timestamp (ns)'].diff()\n",
    "# request_df['inter_arrival_time'] = request_df['Response Timestamp (ns)'].diff()\n",
    "print(request_df.head())\n",
    "\n",
    "# plot the histogram of the inter-arrival time after dividing by 10^6 to convert to ms\n",
    "plt.hist(request_df['inter_arrival_time']/10**6, bins=100)\n",
    "plt.xlabel(\"Inter-arrival time (ms)\")\n",
    "plt.ylabel(\"Frequency\")\n",
    "plt.title(\"Histogram of Inter-arrival time\")\n",
    "plt.show()\n",
    "# print the mean and standard deviation of the inter-arrival time\n",
    "print(\"Mean of inter-arrival time: \", np.mean(request_df['inter_arrival_time'][50:])/10**6)\n",
    "print(\"Standard deviation of inter-arrival time: \", np.std(request_df['inter_arrival_time'][50:])/10**6)\n"
   ]
  },
  {
   "cell_type": "code",
   "execution_count": null,
   "metadata": {},
   "outputs": [],
   "source": [
    "# plt.plot(request_df['inter_arrival_time'][50:]/10**6-33.3)\n",
    "interarrival_times = request_df['inter_arrival_time'].to_numpy()[50:]/10**6 - 33.3\n",
    "cumulative_drift = np.cumsum(interarrival_times)\n",
    "plt.plot(cumulative_drift)\n",
    "plt.ylim(0,33.33)\n",
    "plt.xlim(0,500)\n",
    "plt.show()"
   ]
  },
  {
   "cell_type": "code",
   "execution_count": null,
   "metadata": {},
   "outputs": [],
   "source": [
    "values = [1,2,3,3,3,5,1,5,22,3,5]\n",
    "\n",
    "# Sort the values\n",
    "sorted_values = np.sort(values)\n",
    "print(sorted_values)\n",
    "\n",
    "# Calculate the CDF\n",
    "cdf = np.arange(1, len(sorted_values) + 1) / len(sorted_values)\n",
    "\n",
    "# Plot the CDF\n",
    "plt.figure(figsize=(10, 6))\n",
    "plt.plot(sorted_values, cdf, marker='.', linestyle='none')\n",
    "plt.xlabel('Values')\n",
    "plt.ylabel('CDF')\n",
    "plt.title('Cumulative Distribution Function (CDF)')\n",
    "plt.grid(True)\n",
    "plt.show()\n"
   ]
  },
  {
   "cell_type": "code",
   "execution_count": null,
   "metadata": {},
   "outputs": [],
   "source": [
    "a = np.array([1, 2, 3, 4, 5])\n",
    "b = np.repeat(a,3)\n",
    "print(a)\n",
    "print(b)\n",
    "print(np.cumsum(a))"
   ]
  },
  {
   "cell_type": "code",
   "execution_count": null,
   "metadata": {},
   "outputs": [],
   "source": [
    "a = 724\n",
    "rate = 724*8/33.3\n",
    "num_packets = 724*1000/964\n",
    "num_packets_actual = num_packets*(2/rate)\n",
    "print(rate)\n",
    "print(num_packets)\n",
    "print(np.ceil(num_packets_actual))\n",
    "np.repeat(np.array([1,2,3]), np.ceil(num_packets_actual))"
   ]
  },
  {
   "cell_type": "code",
   "execution_count": null,
   "metadata": {},
   "outputs": [],
   "source": [
    "n1 = 10\n",
    "n2 = 1\n",
    "a = [\"Trace\"]*n1 + [\"Poisson\"]*n2"
   ]
  }
 ],
 "metadata": {
  "kernelspec": {
   "display_name": "scientific_python",
   "language": "python",
   "name": "python3"
  },
  "language_info": {
   "codemirror_mode": {
    "name": "ipython",
    "version": 3
   },
   "file_extension": ".py",
   "mimetype": "text/x-python",
   "name": "python",
   "nbconvert_exporter": "python",
   "pygments_lexer": "ipython3",
   "version": "3.10.9"
  }
 },
 "nbformat": 4,
 "nbformat_minor": 2
}
