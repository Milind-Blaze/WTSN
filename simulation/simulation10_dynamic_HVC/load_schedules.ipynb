{
 "cells": [
  {
   "cell_type": "code",
   "execution_count": null,
   "metadata": {},
   "outputs": [],
   "source": [
    "import numpy as np\n",
    "import os\n",
    "import pandas as pd\n",
    "import pickle\n",
    "import sys\n",
    "\n",
    "sys.path.insert(0, os.path.abspath('..'))\n",
    "from network_classes import *\n"
   ]
  },
  {
   "cell_type": "code",
   "execution_count": null,
   "metadata": {},
   "outputs": [],
   "source": [
    "urllc_path = \"../results/dynamic_HVCs/2024_10_09_18_39_27/experiment_parameters.pkl\"\n",
    "\n",
    "# Load the pkl file\n",
    "with open(urllc_path, 'rb') as f:\n",
    "    urllc = pickle.load(f)   \n",
    "for lambda_value in urllc[\"schedule_contention\"]:\n",
    "    print(lambda_value)\n",
    "    print(urllc[\"schedule_contention\"][lambda_value])\n"
   ]
  },
  {
   "cell_type": "code",
   "execution_count": null,
   "metadata": {},
   "outputs": [],
   "source": [
    "embb_path = \"../results/dynamic_HVCs/2024_10_09_18_37_44/experiment_parameters.pkl\"\n",
    "\n",
    "# Load the pkl file\n",
    "with open(embb_path, 'rb') as f:\n",
    "    embb = pickle.load(f)   \n",
    "for lambda_value in embb[\"schedule_contention\"]:\n",
    "    print(lambda_value)\n",
    "    print(embb[\"schedule_contention\"][lambda_value])"
   ]
  },
  {
   "cell_type": "code",
   "execution_count": null,
   "metadata": {},
   "outputs": [],
   "source": [
    "for lambda_value in embb[\"schedule_contention\"]:\n",
    "    if lambda_value in urllc[\"schedule_contention\"]:\n",
    "        print(lambda_value)\n",
    "        for slot in embb[\"schedule_contention\"][lambda_value].schedule:\n",
    "            print(slot)\n",
    "            assert embb[\"schedule_contention\"][lambda_value].schedule[slot].slot_index \\\n",
    "                == urllc[\"schedule_contention\"][lambda_value].schedule[slot].slot_index, \\\n",
    "                \"Slot index mismatch\"\n",
    "            \n",
    "            assert embb[\"schedule_contention\"][lambda_value].schedule[slot].start_time \\\n",
    "                == urllc[\"schedule_contention\"][lambda_value].schedule[slot].start_time, \\\n",
    "                \"start_time mismatch\"\n",
    "            \n",
    "            assert embb[\"schedule_contention\"][lambda_value].schedule[slot].end_time \\\n",
    "                == urllc[\"schedule_contention\"][lambda_value].schedule[slot].end_time, \\\n",
    "                \"end_time mismatch\"\n",
    "            \n",
    "            assert len(embb[\"schedule_contention\"][lambda_value].schedule[slot].UEs) \\\n",
    "                != len(urllc[\"schedule_contention\"][lambda_value].schedule[slot].UEs), \\\n",
    "                \"Schedule issue\"\n",
    "            \n",
    "            if len(embb[\"schedule_contention\"][lambda_value].schedule[slot].UEs) == 1:\n",
    "                assert len(urllc[\"schedule_contention\"][lambda_value].schedule[slot].UEs) == 0, \\\n",
    "                    \"Schedule issue 1\"\n",
    "            elif len(embb[\"schedule_contention\"][lambda_value].schedule[slot].UEs) == 0:\n",
    "                assert len(urllc[\"schedule_contention\"][lambda_value].schedule[slot].UEs) == 9, \\\n",
    "                    \"Schedule issue 2\"\n",
    "            else:\n",
    "                assert False, \"Schedule issue 3\"\n",
    "                \n",
    "            \n",
    "\n",
    "            print(embb[\"schedule_contention\"][lambda_value].schedule[slot])\n",
    "            print(urllc[\"schedule_contention\"][lambda_value].schedule[slot])\n",
    "            print(\"\")\n",
    "        "
   ]
  },
  {
   "cell_type": "code",
   "execution_count": null,
   "metadata": {},
   "outputs": [],
   "source": []
  }
 ],
 "metadata": {
  "kernelspec": {
   "display_name": "scientific_python",
   "language": "python",
   "name": "python3"
  },
  "language_info": {
   "codemirror_mode": {
    "name": "ipython",
    "version": 3
   },
   "file_extension": ".py",
   "mimetype": "text/x-python",
   "name": "python",
   "nbconvert_exporter": "python",
   "pygments_lexer": "ipython3",
   "version": "3.10.9"
  }
 },
 "nbformat": 4,
 "nbformat_minor": 2
}
