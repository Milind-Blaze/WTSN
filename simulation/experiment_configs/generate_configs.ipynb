{
 "cells": [
  {
   "cell_type": "markdown",
   "metadata": {},
   "source": [
    "# Script to generate configs"
   ]
  },
  {
   "cell_type": "code",
   "execution_count": null,
   "metadata": {},
   "outputs": [],
   "source": [
    "import json\n",
    "import numpy as np\n",
    "import os\n",
    "import sys\n",
    "\n",
    "sys.path.insert(0, os.path.abspath('..'))\n",
    "\n",
    "from utils import *"
   ]
  },
  {
   "cell_type": "code",
   "execution_count": null,
   "metadata": {},
   "outputs": [],
   "source": [
    "template_config_path = \"./simulation4/10UEs_schedule3/template_config.json\"\n",
    "configs_output_folder = \"./simulation4/10UEs_schedule3/generated_configs\"\n",
    "\n",
    "with open(template_config_path, 'r') as f:\n",
    "    template_config = json.load(f)\n",
    "\n",
    "num_UEs_together_list = [i for i in range(10)]\n",
    "qbv_window_sizes = [1500, 3000, 4500]\n",
    "contention_window_sizes = [1500, 3000, 4500]\n",
    "results_directory_base = \"../results/simulation_4/10UEs_schedule3/\"\n",
    "\n",
    "for num_UEs in num_UEs_together_list:\n",
    "    for qbv_window_size in qbv_window_sizes:\n",
    "        for contention_window_size in contention_window_sizes:\n",
    "            \n",
    "            config = template_config.copy()\n",
    "            config[\"schedule_config\"][\"num_UEs_together\"] = num_UEs\n",
    "            config[\"schedule_config\"][\"qbv_window_size\"] = qbv_window_size\n",
    "            config[\"schedule_config\"][\"contention_window_size\"] = contention_window_size\n",
    "            config[\"results_directory_simulation\"] = results_directory_base + f\"num_UEs_together_{num_UEs}\"\n",
    "\n",
    "            os.makedirs(configs_output_folder, exist_ok=True)\n",
    "            config_name = f\"{num_UEs}_UEs_{qbv_window_size}_qbv_{contention_window_size}_contention.json\"\n",
    "            config_output_path = os.path.join(configs_output_folder, config_name)\n",
    "            config_json = json.dumps(config, indent=4, cls=NumpyEncoder)\n",
    "            with open(config_output_path, \"w\") as file:\n",
    "                file.write(config_json)\n"
   ]
  },
  {
   "cell_type": "code",
   "execution_count": null,
   "metadata": {},
   "outputs": [],
   "source": [
    "print(num_UEs_together)"
   ]
  },
  {
   "cell_type": "code",
   "execution_count": null,
   "metadata": {},
   "outputs": [],
   "source": []
  }
 ],
 "metadata": {
  "kernelspec": {
   "display_name": "scientific_python",
   "language": "python",
   "name": "python3"
  },
  "language_info": {
   "codemirror_mode": {
    "name": "ipython",
    "version": 3
   },
   "file_extension": ".py",
   "mimetype": "text/x-python",
   "name": "python",
   "nbconvert_exporter": "python",
   "pygments_lexer": "ipython3",
   "version": "3.10.9"
  }
 },
 "nbformat": 4,
 "nbformat_minor": 2
}
