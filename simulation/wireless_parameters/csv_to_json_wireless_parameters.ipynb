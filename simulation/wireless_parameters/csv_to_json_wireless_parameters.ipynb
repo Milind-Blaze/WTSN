{
 "cells": [
  {
   "cell_type": "markdown",
   "metadata": {},
   "source": [
    "# Processing wireless parameters"
   ]
  },
  {
   "cell_type": "code",
   "execution_count": null,
   "metadata": {},
   "outputs": [],
   "source": [
    "import json\n",
    "import numpy as np\n",
    "import pandas as pd\n"
   ]
  },
  {
   "cell_type": "code",
   "execution_count": null,
   "metadata": {},
   "outputs": [],
   "source": [
    "# For wireless_parameters_DL_MU_964B_80Mhz.csv\n",
    "\n",
    "# input_filename = \"wireless_parameters_DL_MU_964B_80Mhz.csv\"\n",
    "# df = pd.read_csv(input_filename)\n",
    "\n",
    "# output_filename = \"wireless_parameters_DL_MU_964B_80Mhz.json\"\n",
    "\n",
    "# wireless_parameters = {}\n",
    "\n",
    "# for i in range(len(df.keys())):\n",
    "#     setting_name = \"setting \" + str(i)\n",
    "#     setting = {}\n",
    "#     setting[\"SNR\"] = 38\n",
    "#     setting[\"Bandwidth\"] = 80\n",
    "#     setting[\"MCS\"] = i\n",
    "#     setting[\"PER\"] = 0\n",
    "#     setting[\"payload_size\"] = 964\n",
    "#     setting[\"aggregation\"] = len(df[df.keys()[i]])\n",
    "#     setting[\"delivery_latency\"] = df[df.keys()[i]].tolist()\n",
    "#     wireless_parameters[setting_name] = setting\n",
    "\n",
    "# wireless_parameters_json = json.dumps(wireless_parameters, indent=4)\n",
    "# with open(output_filename, \"w\") as file:\n",
    "#     file.write(wireless_parameters_json)\n",
    "\n",
    "\n"
   ]
  },
  {
   "cell_type": "code",
   "execution_count": null,
   "metadata": {},
   "outputs": [],
   "source": [
    "# For wireless_parameters_DL_MU_964B_80Mhz_Nss2_98usBA.csv\n",
    "\n",
    "input_filename = \"wireless_parameters_DL_MU_964B_80Mhz_Nss2_98usBA.csv\"\n",
    "df = pd.read_csv(input_filename)\n",
    "\n",
    "output_filename = \"wireless_parameters_DL_MU_964B_80Mhz_Nss2_98usBA.json\"\n",
    "\n",
    "wireless_parameters = {}\n",
    "\n",
    "for i in range(len(df.keys())):\n",
    "    print(df.keys()[i])\n",
    "    setting_name = df.keys()[i]\n",
    "    setting = {}\n",
    "    setting[\"SNR\"] = 24\n",
    "    setting[\"Bandwidth\"] = 80\n",
    "    setting[\"MCS\"] = int(df.keys()[i][-1])\n",
    "    if setting_name == \"MCS2\":\n",
    "        setting[\"PER\"] = 0\n",
    "    else:\n",
    "        setting[\"PER\"] = 0.1\n",
    "    setting[\"payload_size\"] = 964\n",
    "    setting[\"aggregation\"] = 150\n",
    "    print(len(df[df.keys()[i]]))\n",
    "    setting[\"delivery_latency\"] = df[df.keys()[i]].tolist()\n",
    "    wireless_parameters[setting_name] = setting\n",
    "\n",
    "wireless_parameters_json = json.dumps(wireless_parameters, indent=4)\n",
    "with open(output_filename, \"w\") as file:\n",
    "    file.write(wireless_parameters_json)\n",
    "\n",
    "\n"
   ]
  }
 ],
 "metadata": {
  "kernelspec": {
   "display_name": "scientific_python",
   "language": "python",
   "name": "python3"
  },
  "language_info": {
   "codemirror_mode": {
    "name": "ipython",
    "version": 3
   },
   "file_extension": ".py",
   "mimetype": "text/x-python",
   "name": "python",
   "nbconvert_exporter": "python",
   "pygments_lexer": "ipython3",
   "version": "3.10.9"
  }
 },
 "nbformat": 4,
 "nbformat_minor": 2
}
