{
 "cells": [
  {
   "cell_type": "markdown",
   "metadata": {},
   "source": [
    "# Processing wireless parameters"
   ]
  },
  {
   "cell_type": "code",
   "execution_count": null,
   "metadata": {},
   "outputs": [],
   "source": [
    "import json\n",
    "import numpy as np\n",
    "import pandas as pd\n"
   ]
  },
  {
   "cell_type": "code",
   "execution_count": null,
   "metadata": {},
   "outputs": [],
   "source": [
    "input_filename = \"wireless_parameters_DL_MU_964B.csv\"\n",
    "df = pd.read_csv(input_filename)\n",
    "\n",
    "output_filename = \"wireless_parameters_DL_MU_964B.json\"\n",
    "\n",
    "wireless_parameters = {}\n",
    "\n",
    "for i in range(len(df.keys())):\n",
    "    setting_name = \"setting \" + str(i)\n",
    "    setting = {}\n",
    "    setting[\"SNR\"] = 38\n",
    "    setting[\"Bandwidth\"] = 20\n",
    "    setting[\"MCS\"] = i\n",
    "    setting[\"PER\"] = 0\n",
    "    setting[\"payload_size\"] = 64\n",
    "    setting[\"aggregation\"] = len(df[df.keys()[i]])\n",
    "    setting[\"delivery_latency\"] = df[df.keys()[i]].tolist()\n",
    "    wireless_parameters[setting_name] = setting\n",
    "\n",
    "wireless_parameters_json = json.dumps(wireless_parameters, indent=4)\n",
    "with open(output_filename, \"w\") as file:\n",
    "    file.write(wireless_parameters_json)\n",
    "\n",
    "\n"
   ]
  },
  {
   "cell_type": "code",
   "execution_count": null,
   "metadata": {},
   "outputs": [],
   "source": [
    "print(wireless_parameters)"
   ]
  },
  {
   "cell_type": "code",
   "execution_count": null,
   "metadata": {},
   "outputs": [],
   "source": []
  }
 ],
 "metadata": {
  "kernelspec": {
   "display_name": "scientific_python",
   "language": "python",
   "name": "python3"
  },
  "language_info": {
   "codemirror_mode": {
    "name": "ipython",
    "version": 3
   },
   "file_extension": ".py",
   "mimetype": "text/x-python",
   "name": "python",
   "nbconvert_exporter": "python",
   "pygments_lexer": "ipython3",
   "version": "3.10.9"
  }
 },
 "nbformat": 4,
 "nbformat_minor": 2
}
